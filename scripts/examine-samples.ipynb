{
 "cells": [
  {
   "cell_type": "code",
   "execution_count": null,
   "metadata": {},
   "outputs": [],
   "source": [
    "import numpy as np\n",
    "\n",
    "with open(\"/home/ori/Documents/git/opv-cxx-demod/build/apps/PTW-purpose.opv-samples\", \"rb\") as fp:\n",
    "    samples = np.fromfile(fp, dtype=np.int16)\n"
   ]
  },
  {
   "cell_type": "code",
   "execution_count": null,
   "metadata": {},
   "outputs": [],
   "source": [
    "import matplotlib.pyplot as plt\n",
    "import matplotlib as mpl\n",
    "\n",
    "frame = 21\n",
    "plt.plot(samples[frame*10840+4:frame*10840+4+210]/7168)\n",
    "plt.hlines([-3, -1, 1, 3], -10, 220, colors='g', linestyle='dotted')\n",
    "plt.yticks([-3, -1, 1, 3])\n",
    "plt.xticks(range(0,220,10), labels=[])\n",
    "plt.box(on=False)\n",
    "plt.axvspan(0, 65, facecolor='g', alpha=0.2)\n",
    "plt.axvspan(65,65+80, facecolor='r', alpha=0.1)\n",
    "plt.axvspan(65+80, 210, facecolor='y', alpha=0.1)\n",
    "plt.show()"
   ]
  }
 ],
 "metadata": {
  "language_info": {
   "name": "python"
  },
  "orig_nbformat": 4
 },
 "nbformat": 4,
 "nbformat_minor": 2
}
