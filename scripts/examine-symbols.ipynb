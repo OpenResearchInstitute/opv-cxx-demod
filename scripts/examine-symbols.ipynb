{
 "cells": [
  {
   "cell_type": "code",
   "execution_count": null,
   "metadata": {},
   "outputs": [],
   "source": [
    "import numpy as np\n",
    "import bitstruct\n",
    "\n",
    "with open(\"/home/ori/Documents/git/opv-cxx-demod/build/apps/PTW-purpose.opv-symbols\", \"rb\") as fp:\n",
    "    packed_bytes = np.fromfile(fp, dtype=np.uint8)\n",
    "\n",
    "# samples = np.unpackbits(packed_bytes, count=2)\n",
    "\n",
    "#samples = bitstruct.unpack_from(\"s2s2s2s2\", packed_bytes)\n",
    "#samples\n",
    "\n",
    "for x in packed_bytes:\n",
    "    unpacked_dibits = bitstruct.unpack_from(\"u2u2u2u2\", x)\n",
    "    for b in unpacked_dibits:\n",
    "        if b == 0:\n",
    "            print(1)\n",
    "        elif b == 1:\n",
    "            print(3)\n",
    "        elif b == 2:\n",
    "            print(-1)\n",
    "        else:\n",
    "            print(-3)\n",
    "\n",
    "len(packed_bytes)"
   ]
  }
 ],
 "metadata": {
  "kernelspec": {
   "display_name": "Python 3",
   "language": "python",
   "name": "python3"
  },
  "language_info": {
   "codemirror_mode": {
    "name": "ipython",
    "version": 3
   },
   "file_extension": ".py",
   "mimetype": "text/x-python",
   "name": "python",
   "nbconvert_exporter": "python",
   "pygments_lexer": "ipython3",
   "version": "3.9.2"
  },
  "orig_nbformat": 4
 },
 "nbformat": 4,
 "nbformat_minor": 2
}
